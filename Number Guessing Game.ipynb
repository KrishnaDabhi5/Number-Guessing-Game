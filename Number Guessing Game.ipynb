{
 "cells": [
  {
   "cell_type": "code",
   "execution_count": 6,
   "id": "ad5951e9",
   "metadata": {},
   "outputs": [
    {
     "name": "stdout",
     "output_type": "stream",
     "text": [
      "gusse the number: 10\n",
      "The gusse is too low\n",
      "gusse the number: 2\n",
      "The gusse is too low\n",
      "gusse the number: 15\n",
      "The gusse is too low\n",
      "gusse the number: 18\n",
      "The gusse is too high\n",
      "gusse the number: 16\n",
      "you go it!!\n"
     ]
    }
   ],
   "source": [
    "import random\n",
    "def gusse_number():\n",
    "    ran_no = random.randint(1,20)\n",
    "    while True:\n",
    "        gusse = int(input(\"gusse the number: \"))\n",
    "        if ran_no > gusse:\n",
    "            print(\"The gusse is too low\")\n",
    "        elif gusse > ran_no:\n",
    "            print(\"The gusse is too high\")\n",
    "        else:\n",
    "            print(\"you go it!!\")\n",
    "            break\n",
    "gusse_number()"
   ]
  },
  {
   "cell_type": "code",
   "execution_count": null,
   "id": "cf08ded0",
   "metadata": {},
   "outputs": [],
   "source": []
  }
 ],
 "metadata": {
  "kernelspec": {
   "display_name": "Python 3 (ipykernel)",
   "language": "python",
   "name": "python3"
  },
  "language_info": {
   "codemirror_mode": {
    "name": "ipython",
    "version": 3
   },
   "file_extension": ".py",
   "mimetype": "text/x-python",
   "name": "python",
   "nbconvert_exporter": "python",
   "pygments_lexer": "ipython3",
   "version": "3.10.8"
  }
 },
 "nbformat": 4,
 "nbformat_minor": 5
}
